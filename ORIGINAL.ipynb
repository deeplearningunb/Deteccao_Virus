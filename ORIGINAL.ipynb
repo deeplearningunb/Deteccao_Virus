{
 "cells": [
  {
   "cell_type": "markdown",
   "metadata": {},
   "source": [
    "# Detecção de Vírus usando CNN (Convolution Neural Networks)"
   ]
  },
  {
   "cell_type": "code",
   "execution_count": 1,
   "metadata": {},
   "outputs": [
    {
     "name": "stdout",
     "output_type": "stream",
     "text": [
      "Requirement already satisfied: numpy in /home/user/.local/lib/python3.9/site-packages (1.22.3)\n",
      "Requirement already satisfied: sklearn in /home/user/.local/lib/python3.9/site-packages (0.0)\n",
      "Requirement already satisfied: scikit-learn in /home/user/.local/lib/python3.9/site-packages (from sklearn) (1.0.2)\n",
      "Requirement already satisfied: numpy>=1.14.6 in /home/user/.local/lib/python3.9/site-packages (from scikit-learn->sklearn) (1.22.3)\n",
      "Requirement already satisfied: joblib>=0.11 in /home/user/.local/lib/python3.9/site-packages (from scikit-learn->sklearn) (1.1.0)\n",
      "Requirement already satisfied: threadpoolctl>=2.0.0 in /home/user/.local/lib/python3.9/site-packages (from scikit-learn->sklearn) (3.1.0)\n",
      "Requirement already satisfied: scipy>=1.1.0 in /home/user/.local/lib/python3.9/site-packages (from scikit-learn->sklearn) (1.8.0)\n",
      "Requirement already satisfied: seaborn in /home/user/.local/lib/python3.9/site-packages (0.11.2)\n",
      "Requirement already satisfied: numpy>=1.15 in /home/user/.local/lib/python3.9/site-packages (from seaborn) (1.22.3)\n",
      "Requirement already satisfied: pandas>=0.23 in /home/user/.local/lib/python3.9/site-packages (from seaborn) (1.4.2)\n",
      "Requirement already satisfied: scipy>=1.0 in /home/user/.local/lib/python3.9/site-packages (from seaborn) (1.8.0)\n",
      "Requirement already satisfied: matplotlib>=2.2 in /home/user/.local/lib/python3.9/site-packages (from seaborn) (3.5.1)\n",
      "Requirement already satisfied: pillow>=6.2.0 in /usr/lib/python3/dist-packages (from matplotlib>=2.2->seaborn) (8.1.2)\n",
      "Requirement already satisfied: packaging>=20.0 in /home/user/.local/lib/python3.9/site-packages (from matplotlib>=2.2->seaborn) (21.3)\n",
      "Requirement already satisfied: kiwisolver>=1.0.1 in /home/user/.local/lib/python3.9/site-packages (from matplotlib>=2.2->seaborn) (1.4.0)\n",
      "Requirement already satisfied: cycler>=0.10 in /home/user/.local/lib/python3.9/site-packages (from matplotlib>=2.2->seaborn) (0.11.0)\n",
      "Requirement already satisfied: fonttools>=4.22.0 in /home/user/.local/lib/python3.9/site-packages (from matplotlib>=2.2->seaborn) (4.31.1)\n",
      "Requirement already satisfied: python-dateutil>=2.7 in /usr/lib/python3/dist-packages (from matplotlib>=2.2->seaborn) (2.8.1)\n",
      "Requirement already satisfied: pyparsing>=2.2.1 in /home/user/.local/lib/python3.9/site-packages (from matplotlib>=2.2->seaborn) (3.0.7)\n",
      "Requirement already satisfied: pytz>=2020.1 in /usr/lib/python3/dist-packages (from pandas>=0.23->seaborn) (2021.1)\n"
     ]
    }
   ],
   "source": [
    "# bibliotecas\n",
    "import sys\n",
    "!{sys.executable} -m pip install numpy \n",
    "!{sys.executable} -m pip install sklearn \n",
    "!{sys.executable} -m pip install seaborn"
   ]
  },
  {
   "cell_type": "code",
   "execution_count": 2,
   "metadata": {
    "_cell_guid": "b1076dfc-b9ad-4769-8c92-a6c4dae69d19",
    "_uuid": "8f2839f25d086af736a60e9eeb907d3b93b6e0e5",
    "execution": {
     "iopub.execute_input": "2022-04-23T18:25:11.309411Z",
     "iopub.status.busy": "2022-04-23T18:25:11.307227Z",
     "iopub.status.idle": "2022-04-23T18:25:11.318256Z",
     "shell.execute_reply": "2022-04-23T18:25:11.317194Z",
     "shell.execute_reply.started": "2022-04-23T18:25:11.309345Z"
    }
   },
   "outputs": [],
   "source": [
    "import sys\n",
    "import os\n",
    "from math import log\n",
    "import numpy as np\n",
    "import pandas as pd\n",
    "import scipy as sp\n",
    "from PIL import Image\n",
    "import matplotlib.pyplot as plt"
   ]
  },
  {
   "cell_type": "code",
   "execution_count": 3,
   "metadata": {
    "execution": {
     "iopub.execute_input": "2022-04-23T18:32:19.907805Z",
     "iopub.status.busy": "2022-04-23T18:32:19.907506Z",
     "iopub.status.idle": "2022-04-23T18:32:19.912408Z",
     "shell.execute_reply": "2022-04-23T18:32:19.911678Z",
     "shell.execute_reply.started": "2022-04-23T18:32:19.907775Z"
    }
   },
   "outputs": [],
   "source": [
    "# pasta contendo o dataset de imagens de malwares para treinamento\n",
    "path_root = \"./malimg_dataset/train\" "
   ]
  },
  {
   "cell_type": "code",
   "execution_count": null,
   "metadata": {
    "execution": {
     "iopub.execute_input": "2022-04-23T18:25:11.420523Z",
     "iopub.status.busy": "2022-04-23T18:25:11.419824Z",
     "iopub.status.idle": "2022-04-23T18:25:12.965895Z",
     "shell.execute_reply": "2022-04-23T18:25:12.965191Z",
     "shell.execute_reply.started": "2022-04-23T18:25:11.420483Z"
    }
   },
   "outputs": [],
   "source": [
    "#reconhece as imagens, define o tamanho em pixels delas e o tamanho do vetor batch\n",
    "from tensorflow.keras.preprocessing.image import ImageDataGenerator\n",
    "batches = ImageDataGenerator().flow_from_directory(directory=path_root, target_size=(64,64), batch_size=10000)"
   ]
  },
  {
   "cell_type": "code",
   "execution_count": null,
   "metadata": {
    "execution": {
     "iopub.execute_input": "2022-04-23T18:25:12.968258Z",
     "iopub.status.busy": "2022-04-23T18:25:12.967614Z",
     "iopub.status.idle": "2022-04-23T18:25:12.975022Z",
     "shell.execute_reply": "2022-04-23T18:25:12.974377Z",
     "shell.execute_reply.started": "2022-04-23T18:25:12.96822Z"
    }
   },
   "outputs": [],
   "source": [
    "# imagens com índices\n",
    "batches.class_indices"
   ]
  },
  {
   "cell_type": "code",
   "execution_count": null,
   "metadata": {
    "execution": {
     "iopub.execute_input": "2022-04-23T18:25:12.976867Z",
     "iopub.status.busy": "2022-04-23T18:25:12.97641Z",
     "iopub.status.idle": "2022-04-23T18:25:42.414629Z",
     "shell.execute_reply": "2022-04-23T18:25:42.41347Z",
     "shell.execute_reply.started": "2022-04-23T18:25:12.976834Z"
    }
   },
   "outputs": [],
   "source": [
    "# tuplas de imagens e etiquetas -> mostra suas dimensões\n",
    "imgs, labels = next(batches)"
   ]
  },
  {
   "cell_type": "code",
   "execution_count": null,
   "metadata": {
    "execution": {
     "iopub.execute_input": "2022-04-23T18:25:42.416994Z",
     "iopub.status.busy": "2022-04-23T18:25:42.416708Z",
     "iopub.status.idle": "2022-04-23T18:25:42.424228Z",
     "shell.execute_reply": "2022-04-23T18:25:42.423192Z",
     "shell.execute_reply.started": "2022-04-23T18:25:42.416956Z"
    }
   },
   "outputs": [],
   "source": [
    "imgs.shape"
   ]
  },
  {
   "cell_type": "code",
   "execution_count": null,
   "metadata": {
    "execution": {
     "iopub.execute_input": "2022-04-23T18:25:42.425824Z",
     "iopub.status.busy": "2022-04-23T18:25:42.425574Z",
     "iopub.status.idle": "2022-04-23T18:25:42.438172Z",
     "shell.execute_reply": "2022-04-23T18:25:42.437162Z",
     "shell.execute_reply.started": "2022-04-23T18:25:42.425794Z"
    }
   },
   "outputs": [],
   "source": [
    "labels.shape"
   ]
  },
  {
   "cell_type": "code",
   "execution_count": null,
   "metadata": {
    "execution": {
     "iopub.execute_input": "2022-04-23T18:25:42.43994Z",
     "iopub.status.busy": "2022-04-23T18:25:42.439675Z",
     "iopub.status.idle": "2022-04-23T18:25:42.452387Z",
     "shell.execute_reply": "2022-04-23T18:25:42.451639Z",
     "shell.execute_reply.started": "2022-04-23T18:25:42.439904Z"
    }
   },
   "outputs": [],
   "source": [
    "# plota imagens com rótulos no Jupyter-Notebook\n",
    "def plots(ims, figsize=(20,30), rows=10, interp=False, titles=None):\n",
    "    if type(ims[0]) is np.ndarray:\n",
    "        ims = np.array(ims).astype(np.uint8)\n",
    "        if (ims.shape[-1] != 3):\n",
    "            ims = ims.transpose((0,2,3,1))\n",
    "    f = plt.figure(figsize=figsize)\n",
    "    cols = 10 # len(ims)//rows if len(ims) % 2 == 0 else len(ims)//rows + 1\n",
    "    for i in range(0,50):\n",
    "        sp = f.add_subplot(rows, cols, i+1)\n",
    "        sp.axis('Off')\n",
    "        if titles is not None:\n",
    "            sp.set_title(list(batches.class_indices.keys())[np.argmax(titles[i])], fontsize=16)\n",
    "        plt.imshow(ims[i], interpolation=None if interp else 'none')"
   ]
  },
  {
   "cell_type": "code",
   "execution_count": null,
   "metadata": {
    "execution": {
     "iopub.execute_input": "2022-04-23T18:25:42.454521Z",
     "iopub.status.busy": "2022-04-23T18:25:42.453945Z",
     "iopub.status.idle": "2022-04-23T18:25:45.115299Z",
     "shell.execute_reply": "2022-04-23T18:25:45.114271Z",
     "shell.execute_reply.started": "2022-04-23T18:25:42.454475Z"
    }
   },
   "outputs": [],
   "source": [
    "plots(imgs, titles = labels)"
   ]
  },
  {
   "cell_type": "code",
   "execution_count": null,
   "metadata": {
    "execution": {
     "iopub.execute_input": "2022-04-23T18:25:45.117226Z",
     "iopub.status.busy": "2022-04-23T18:25:45.116687Z",
     "iopub.status.idle": "2022-04-23T18:25:45.135287Z",
     "shell.execute_reply": "2022-04-23T18:25:45.134093Z",
     "shell.execute_reply.started": "2022-04-23T18:25:45.117183Z"
    }
   },
   "outputs": [],
   "source": [
    "classes = batches.class_indices.keys()\n",
    "perc = (sum(labels)/labels.shape[0])*100"
   ]
  },
  {
   "cell_type": "code",
   "execution_count": null,
   "metadata": {
    "execution": {
     "iopub.execute_input": "2022-04-23T18:25:45.136839Z",
     "iopub.status.busy": "2022-04-23T18:25:45.136545Z",
     "iopub.status.idle": "2022-04-23T18:25:45.454178Z",
     "shell.execute_reply": "2022-04-23T18:25:45.453046Z",
     "shell.execute_reply.started": "2022-04-23T18:25:45.136804Z"
    }
   },
   "outputs": [],
   "source": [
    "plt.xticks(rotation='vertical')\n",
    "plt.bar(classes,perc)"
   ]
  },
  {
   "cell_type": "code",
   "execution_count": null,
   "metadata": {
    "execution": {
     "iopub.execute_input": "2022-04-23T18:25:45.458529Z",
     "iopub.status.busy": "2022-04-23T18:25:45.458248Z",
     "iopub.status.idle": "2022-04-23T18:25:45.75379Z",
     "shell.execute_reply": "2022-04-23T18:25:45.752864Z",
     "shell.execute_reply.started": "2022-04-23T18:25:45.458496Z"
    }
   },
   "outputs": [],
   "source": [
    "# divide o dataset para treinamento e teste -> mostra suas dimensões\n",
    "from sklearn.model_selection import train_test_split\n",
    "X_train, X_test, y_train, y_test = train_test_split(imgs/255.,labels, test_size=0.3)"
   ]
  },
  {
   "cell_type": "code",
   "execution_count": null,
   "metadata": {
    "execution": {
     "iopub.execute_input": "2022-04-23T18:25:45.755524Z",
     "iopub.status.busy": "2022-04-23T18:25:45.755185Z",
     "iopub.status.idle": "2022-04-23T18:25:45.762132Z",
     "shell.execute_reply": "2022-04-23T18:25:45.761241Z",
     "shell.execute_reply.started": "2022-04-23T18:25:45.755471Z"
    }
   },
   "outputs": [],
   "source": [
    "X_train.shape"
   ]
  },
  {
   "cell_type": "code",
   "execution_count": null,
   "metadata": {
    "execution": {
     "iopub.execute_input": "2022-04-23T18:25:45.763717Z",
     "iopub.status.busy": "2022-04-23T18:25:45.763475Z",
     "iopub.status.idle": "2022-04-23T18:25:45.779519Z",
     "shell.execute_reply": "2022-04-23T18:25:45.778375Z",
     "shell.execute_reply.started": "2022-04-23T18:25:45.763687Z"
    }
   },
   "outputs": [],
   "source": [
    "X_test.shape"
   ]
  },
  {
   "cell_type": "code",
   "execution_count": null,
   "metadata": {
    "execution": {
     "iopub.execute_input": "2022-04-23T18:25:45.783716Z",
     "iopub.status.busy": "2022-04-23T18:25:45.783194Z",
     "iopub.status.idle": "2022-04-23T18:25:45.789467Z",
     "shell.execute_reply": "2022-04-23T18:25:45.788678Z",
     "shell.execute_reply.started": "2022-04-23T18:25:45.783682Z"
    }
   },
   "outputs": [],
   "source": [
    "y_train.shape"
   ]
  },
  {
   "cell_type": "code",
   "execution_count": null,
   "metadata": {
    "execution": {
     "iopub.execute_input": "2022-04-23T18:25:45.792959Z",
     "iopub.status.busy": "2022-04-23T18:25:45.792671Z",
     "iopub.status.idle": "2022-04-23T18:25:45.803642Z",
     "shell.execute_reply": "2022-04-23T18:25:45.802925Z",
     "shell.execute_reply.started": "2022-04-23T18:25:45.792925Z"
    }
   },
   "outputs": [],
   "source": [
    "y_test.shape"
   ]
  },
  {
   "cell_type": "code",
   "execution_count": null,
   "metadata": {
    "execution": {
     "iopub.execute_input": "2022-04-23T18:25:45.804777Z",
     "iopub.status.busy": "2022-04-23T18:25:45.804544Z",
     "iopub.status.idle": "2022-04-23T18:25:45.818657Z",
     "shell.execute_reply": "2022-04-23T18:25:45.817686Z",
     "shell.execute_reply.started": "2022-04-23T18:25:45.804747Z"
    }
   },
   "outputs": [],
   "source": [
    "# import keras \n",
    "# added tensorflow\n",
    "from tensorflow.keras.models import Sequential\n",
    "# Um modelo seqüencial é apropriado para uma pilha simples de camadas, onde cada camada possui exatamente \n",
    "# um tensor de entrada e um tensor de saída.\n",
    "from tensorflow.keras import Input #the .models has been removed \n",
    "from tensorflow.keras.models import Model\n",
    "from tensorflow.keras.layers import Dense, Dropout, Flatten\n",
    "# Dense: implementa a operação: output = output = activation(dot(input, kernel) + bias) onde a ativação \n",
    "# é a função de ativação do elemento passada como argumento de ativação, o kernel é uma matriz de pesos \n",
    "# criada pela camada, e o viés é um vetor de viés criado por A camada (apenas aplicável se use_bias for verdadeira).\n",
    "#\n",
    "# Dropout: A camada de 'Dropout' define aleatoriamente unidades de entrada para 0 com uma frequência de taxa em cada \n",
    "# etapa durante o tempo de treinamento, o que ajuda a evitar o excesso de ajuste. As entradas não definidas como 0 \n",
    "# são ampliadas em 1/(1 - taxa), de modo que a soma em todas as entradas permaneça inalterada.\n",
    "#\n",
    "# Flatten: Achata a entrada. Não afeta o tamanho do 'batch'.\n",
    "from tensorflow.keras.layers import Conv2D, MaxPooling2D\n",
    "# Conv2D: Essa camada cria um kernel de convolução que é convoluído com a entrada da camada para produzir \n",
    "# um tensor de saídas. Se use_bias for verdadeiro, um vetor de polarização será criado e adicionado às saídas. \n",
    "# Finalmente, se a ativação não for nenhuma, ela também é aplicada às saídas.\n",
    "#\n",
    "# MaxPooling2D: As amostras reduzem a entrada ao longo de suas dimensões espaciais (altura e largura), assumindo o \n",
    "# valor máximo em uma janela de entrada (do tamanho definido por pool_size) para cada canal da entrada. A janela \n",
    "# é deslocada pelos avanços ao longo de cada dimensão.\n",
    "from tensorflow.keras.layers import BatchNormalization"
   ]
  },
  {
   "cell_type": "code",
   "execution_count": null,
   "metadata": {},
   "outputs": [],
   "source": [
    "num_classes = 25"
   ]
  },
  {
   "cell_type": "code",
   "execution_count": null,
   "metadata": {},
   "outputs": [],
   "source": [
    "def malware_model(): #definindo a função \n",
    "    #modelo sequencial incremental (add())\n",
    "    # Modelo sequential é ultilizado para uma pilha de camadas simples (cada camada possui um tensor de entrada e um de saida).\n",
    "    Malware_model = Sequential()\n",
    "    #conv2-> cria um kernel de convolução que é convoluído com a entrada da camada para produzir um tensor de saídas(convulução espacial sobre imagens)\n",
    "    Malware_model.add(Conv2D(30, kernel_size=(3, 3),#kernel_size -> especificando a altura e a largura da janela de convolução 2D. \n",
    "                     activation='relu',                             \n",
    "                     input_shape=(64,64,3)))#64x64 RGB imagens\n",
    "    #input_shape-> para transforma-lo em uma camada model\n",
    "    #Input, ultilizado para exibir o um resumo do modelo desde o inicio \n",
    "    Malware_model.add(MaxPooling2D(pool_size=(2, 2))) #MaxPool-> reduz a resolução da entrada\n",
    "    #ao longo das dimensões espaciais(altura e largura)\n",
    "    #tomando o valor do pool_Size -> tamanho da janela sobre a qual se deve obter o max na janela de entrada.\n",
    "    Malware_model.add(Conv2D(15, (3, 3), activation='relu'))\n",
    "    Malware_model.add(MaxPooling2D(pool_size=(2, 2)))\n",
    "    Malware_model.add(Dropout(0.25))\n",
    "    Malware_model.add(Flatten())\n",
    "    #flatten() sempre retorna uma cópia do array de entrada, ou seja, quaisquer alterações feitas no array \n",
    "    #retornado não modificarão o array original.\n",
    "    Malware_model.add(Dense(128, activation='relu')) #camada para o construtor sequencial\n",
    "    #Relu -> produz resultado no intervalo de 0(valores negativos) a infinito.Como seu resultado é 0 para valores negativos, \n",
    "    #tende a “apagar” alguns neurônios durante um passo forward, o que aumenta a velocidade do treinamento, \n",
    "    #mas por outro pode fazer com que esses neurônios “morram” e não aprendam nada se eles só receberem valores negativos.\n",
    "    #Além disso, ela pode produzir ativações explodidas, já que não possui um limite positivo.\n",
    "    Malware_model.add(Dropout(0.5)) #dropout aplicado ao neurinios ocultos do modelo de rede com uma taxa de 5%\n",
    "    #Dropout é usado apenas durante o treinamento de um modelo e não é usado ao avaliar a habilidade do modelo.Seleciona \n",
    "    #aleatoriamente os nós que serão descatados com uma probabilidade proposta.\n",
    "    Malware_model.add(Dense(50, activation='relu')) #camada para o construtor sequencial\n",
    "    Malware_model.add(Dense(num_classes, activation='softmax')) # camada para o construtor sequencial\n",
    "    #sofmax-> força a saida da RN e apresenta a possibilidade dos dados serem de classes definidas.\n",
    "    Malware_model.compile(loss='categorical_crossentropy', optimizer = 'adam', metrics=['accuracy'])\n",
    "    #categorical_crossentropy-> usada para tarefas de classificação,pode ser considerado como pertencente a uma categoria \n",
    "    #específica com probabilidade 1 e a outras categorias com probabilidade 0.\n",
    "    #Adam Optimizer-> supera o restante do otimizador por uma margem considerável em termos de custo de treinamento (baixo)\n",
    "    #e desempenho (alto). \n",
    "    #metrics-> é uma função usada para avaliar o desempenho do seu modelo.Semelhantes às funções de perda, exceto que os\n",
    "    #resultados da avaliação de uma métrica não são usados ao treinar o modelo\n",
    "    return Malware_model #retornando a função"
   ]
  },
  {
   "cell_type": "code",
   "execution_count": null,
   "metadata": {},
   "outputs": [],
   "source": [
    "Malware_model = malware_model()"
   ]
  },
  {
   "cell_type": "code",
   "execution_count": null,
   "metadata": {},
   "outputs": [],
   "source": [
    "#sumary () é chamado após o \"modelo\" ser contruido para exibir o contéudo\n",
    "Malware_model.summary()"
   ]
  },
  {
   "cell_type": "code",
   "execution_count": null,
   "metadata": {},
   "outputs": [],
   "source": [
    "y_train.shape #->treinando as matrize Y em sua respectiva dimensões."
   ]
  },
  {
   "cell_type": "code",
   "execution_count": null,
   "metadata": {},
   "outputs": [],
   "source": [
    "# O uso do fluxo de depuração de add+summary ->permite controlar a forma de como \n",
    "#uma pilha de Conv2D e MaxPooling 2D  "
   ]
  }
 ],
 "metadata": {
  "kernelspec": {
   "display_name": "Python 3 (ipykernel)",
   "language": "python",
   "name": "python3"
  },
  "language_info": {
   "codemirror_mode": {
    "name": "ipython",
    "version": 3
   },
   "file_extension": ".py",
   "mimetype": "text/x-python",
   "name": "python",
   "nbconvert_exporter": "python",
   "pygments_lexer": "ipython3",
   "version": "3.9.7"
  }
 },
 "nbformat": 4,
 "nbformat_minor": 4
}
